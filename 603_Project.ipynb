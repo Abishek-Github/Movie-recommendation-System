{
  "cells": [
    {
      "cell_type": "code",
      "execution_count": null,
      "metadata": {
        "colab": {
          "base_uri": "https://localhost:8080/",
          "height": 520
        },
        "id": "vNimW0XvNhBJ",
        "outputId": "9ceeab08-6520-4de5-e8b2-9c494a32230d"
      },
      "outputs": [
        {
          "data": {
            "text/html": [
              "\n",
              "     <input type=\"file\" id=\"files-dad73ebe-a712-494a-b179-0f95956d34b2\" name=\"files[]\" multiple disabled\n",
              "        style=\"border:none\" />\n",
              "     <output id=\"result-dad73ebe-a712-494a-b179-0f95956d34b2\">\n",
              "      Upload widget is only available when the cell has been executed in the\n",
              "      current browser session. Please rerun this cell to enable.\n",
              "      </output>\n",
              "      <script>// Copyright 2017 Google LLC\n",
              "//\n",
              "// Licensed under the Apache License, Version 2.0 (the \"License\");\n",
              "// you may not use this file except in compliance with the License.\n",
              "// You may obtain a copy of the License at\n",
              "//\n",
              "//      http://www.apache.org/licenses/LICENSE-2.0\n",
              "//\n",
              "// Unless required by applicable law or agreed to in writing, software\n",
              "// distributed under the License is distributed on an \"AS IS\" BASIS,\n",
              "// WITHOUT WARRANTIES OR CONDITIONS OF ANY KIND, either express or implied.\n",
              "// See the License for the specific language governing permissions and\n",
              "// limitations under the License.\n",
              "\n",
              "/**\n",
              " * @fileoverview Helpers for google.colab Python module.\n",
              " */\n",
              "(function(scope) {\n",
              "function span(text, styleAttributes = {}) {\n",
              "  const element = document.createElement('span');\n",
              "  element.textContent = text;\n",
              "  for (const key of Object.keys(styleAttributes)) {\n",
              "    element.style[key] = styleAttributes[key];\n",
              "  }\n",
              "  return element;\n",
              "}\n",
              "\n",
              "// Max number of bytes which will be uploaded at a time.\n",
              "const MAX_PAYLOAD_SIZE = 100 * 1024;\n",
              "\n",
              "function _uploadFiles(inputId, outputId) {\n",
              "  const steps = uploadFilesStep(inputId, outputId);\n",
              "  const outputElement = document.getElementById(outputId);\n",
              "  // Cache steps on the outputElement to make it available for the next call\n",
              "  // to uploadFilesContinue from Python.\n",
              "  outputElement.steps = steps;\n",
              "\n",
              "  return _uploadFilesContinue(outputId);\n",
              "}\n",
              "\n",
              "// This is roughly an async generator (not supported in the browser yet),\n",
              "// where there are multiple asynchronous steps and the Python side is going\n",
              "// to poll for completion of each step.\n",
              "// This uses a Promise to block the python side on completion of each step,\n",
              "// then passes the result of the previous step as the input to the next step.\n",
              "function _uploadFilesContinue(outputId) {\n",
              "  const outputElement = document.getElementById(outputId);\n",
              "  const steps = outputElement.steps;\n",
              "\n",
              "  const next = steps.next(outputElement.lastPromiseValue);\n",
              "  return Promise.resolve(next.value.promise).then((value) => {\n",
              "    // Cache the last promise value to make it available to the next\n",
              "    // step of the generator.\n",
              "    outputElement.lastPromiseValue = value;\n",
              "    return next.value.response;\n",
              "  });\n",
              "}\n",
              "\n",
              "/**\n",
              " * Generator function which is called between each async step of the upload\n",
              " * process.\n",
              " * @param {string} inputId Element ID of the input file picker element.\n",
              " * @param {string} outputId Element ID of the output display.\n",
              " * @return {!Iterable<!Object>} Iterable of next steps.\n",
              " */\n",
              "function* uploadFilesStep(inputId, outputId) {\n",
              "  const inputElement = document.getElementById(inputId);\n",
              "  inputElement.disabled = false;\n",
              "\n",
              "  const outputElement = document.getElementById(outputId);\n",
              "  outputElement.innerHTML = '';\n",
              "\n",
              "  const pickedPromise = new Promise((resolve) => {\n",
              "    inputElement.addEventListener('change', (e) => {\n",
              "      resolve(e.target.files);\n",
              "    });\n",
              "  });\n",
              "\n",
              "  const cancel = document.createElement('button');\n",
              "  inputElement.parentElement.appendChild(cancel);\n",
              "  cancel.textContent = 'Cancel upload';\n",
              "  const cancelPromise = new Promise((resolve) => {\n",
              "    cancel.onclick = () => {\n",
              "      resolve(null);\n",
              "    };\n",
              "  });\n",
              "\n",
              "  // Wait for the user to pick the files.\n",
              "  const files = yield {\n",
              "    promise: Promise.race([pickedPromise, cancelPromise]),\n",
              "    response: {\n",
              "      action: 'starting',\n",
              "    }\n",
              "  };\n",
              "\n",
              "  cancel.remove();\n",
              "\n",
              "  // Disable the input element since further picks are not allowed.\n",
              "  inputElement.disabled = true;\n",
              "\n",
              "  if (!files) {\n",
              "    return {\n",
              "      response: {\n",
              "        action: 'complete',\n",
              "      }\n",
              "    };\n",
              "  }\n",
              "\n",
              "  for (const file of files) {\n",
              "    const li = document.createElement('li');\n",
              "    li.append(span(file.name, {fontWeight: 'bold'}));\n",
              "    li.append(span(\n",
              "        `(${file.type || 'n/a'}) - ${file.size} bytes, ` +\n",
              "        `last modified: ${\n",
              "            file.lastModifiedDate ? file.lastModifiedDate.toLocaleDateString() :\n",
              "                                    'n/a'} - `));\n",
              "    const percent = span('0% done');\n",
              "    li.appendChild(percent);\n",
              "\n",
              "    outputElement.appendChild(li);\n",
              "\n",
              "    const fileDataPromise = new Promise((resolve) => {\n",
              "      const reader = new FileReader();\n",
              "      reader.onload = (e) => {\n",
              "        resolve(e.target.result);\n",
              "      };\n",
              "      reader.readAsArrayBuffer(file);\n",
              "    });\n",
              "    // Wait for the data to be ready.\n",
              "    let fileData = yield {\n",
              "      promise: fileDataPromise,\n",
              "      response: {\n",
              "        action: 'continue',\n",
              "      }\n",
              "    };\n",
              "\n",
              "    // Use a chunked sending to avoid message size limits. See b/62115660.\n",
              "    let position = 0;\n",
              "    do {\n",
              "      const length = Math.min(fileData.byteLength - position, MAX_PAYLOAD_SIZE);\n",
              "      const chunk = new Uint8Array(fileData, position, length);\n",
              "      position += length;\n",
              "\n",
              "      const base64 = btoa(String.fromCharCode.apply(null, chunk));\n",
              "      yield {\n",
              "        response: {\n",
              "          action: 'append',\n",
              "          file: file.name,\n",
              "          data: base64,\n",
              "        },\n",
              "      };\n",
              "\n",
              "      let percentDone = fileData.byteLength === 0 ?\n",
              "          100 :\n",
              "          Math.round((position / fileData.byteLength) * 100);\n",
              "      percent.textContent = `${percentDone}% done`;\n",
              "\n",
              "    } while (position < fileData.byteLength);\n",
              "  }\n",
              "\n",
              "  // All done.\n",
              "  yield {\n",
              "    response: {\n",
              "      action: 'complete',\n",
              "    }\n",
              "  };\n",
              "}\n",
              "\n",
              "scope.google = scope.google || {};\n",
              "scope.google.colab = scope.google.colab || {};\n",
              "scope.google.colab._files = {\n",
              "  _uploadFiles,\n",
              "  _uploadFilesContinue,\n",
              "};\n",
              "})(self);\n",
              "</script> "
            ],
            "text/plain": [
              "<IPython.core.display.HTML object>"
            ]
          },
          "metadata": {},
          "output_type": "display_data"
        },
        {
          "name": "stdout",
          "output_type": "stream",
          "text": [
            "Saving ml-100k.zip to ml-100k.zip\n",
            "Archive:  ml-100k.zip\n",
            "   creating: ml-100k/\n",
            "  inflating: ml-100k/allbut.pl       \n",
            "  inflating: ml-100k/mku.sh          \n",
            "  inflating: ml-100k/README          \n",
            "  inflating: ml-100k/u.data          \n",
            "  inflating: ml-100k/u.genre         \n",
            "  inflating: ml-100k/u.info          \n",
            "  inflating: ml-100k/u.item          \n",
            "  inflating: ml-100k/u.occupation    \n",
            "  inflating: ml-100k/u.user          \n",
            "  inflating: ml-100k/u1.base         \n",
            "  inflating: ml-100k/u1.test         \n",
            "  inflating: ml-100k/u2.base         \n",
            "  inflating: ml-100k/u2.test         \n",
            "  inflating: ml-100k/u3.base         \n",
            "  inflating: ml-100k/u3.test         \n",
            "  inflating: ml-100k/u4.base         \n",
            "  inflating: ml-100k/u4.test         \n",
            "  inflating: ml-100k/u5.base         \n",
            "  inflating: ml-100k/u5.test         \n",
            "  inflating: ml-100k/ua.base         \n",
            "  inflating: ml-100k/ua.test         \n",
            "  inflating: ml-100k/ub.base         \n",
            "  inflating: ml-100k/ub.test         \n"
          ]
        }
      ],
      "source": [
        "from google.colab import files\n",
        "uploaded=files.upload()\n",
        "\n",
        "!unzip ml-100k.zip  # To unzip the dataset\n"
      ]
    },
    {
      "cell_type": "code",
      "execution_count": null,
      "metadata": {
        "colab": {
          "base_uri": "https://localhost:8080/"
        },
        "id": "lcE_QGvFNj6t",
        "outputId": "9e810393-4aca-4493-c317-c1afe2cc097c"
      },
      "outputs": [
        {
          "name": "stdout",
          "output_type": "stream",
          "text": [
            "   user_id  movie_id  rating  timestamp\n",
            "0      196       242       3  881250949\n",
            "1      186       302       3  891717742\n",
            "2       22       377       1  878887116\n",
            "3      244        51       2  880606923\n",
            "4      166       346       1  886397596\n",
            "   movie_id              title release_date  video_release_date  \\\n",
            "0         1   Toy Story (1995)  01-Jan-1995                 NaN   \n",
            "1         2   GoldenEye (1995)  01-Jan-1995                 NaN   \n",
            "2         3  Four Rooms (1995)  01-Jan-1995                 NaN   \n",
            "3         4  Get Shorty (1995)  01-Jan-1995                 NaN   \n",
            "4         5     Copycat (1995)  01-Jan-1995                 NaN   \n",
            "\n",
            "                                            IMDb_URL  unknown  Action  \\\n",
            "0  http://us.imdb.com/M/title-exact?Toy%20Story%2...        0       0   \n",
            "1  http://us.imdb.com/M/title-exact?GoldenEye%20(...        0       1   \n",
            "2  http://us.imdb.com/M/title-exact?Four%20Rooms%...        0       0   \n",
            "3  http://us.imdb.com/M/title-exact?Get%20Shorty%...        0       1   \n",
            "4  http://us.imdb.com/M/title-exact?Copycat%20(1995)        0       0   \n",
            "\n",
            "   Adventure  Animation  Children's  ...  Fantasy  Film-Noir  Horror  Musical  \\\n",
            "0          0          1           1  ...        0          0       0        0   \n",
            "1          1          0           0  ...        0          0       0        0   \n",
            "2          0          0           0  ...        0          0       0        0   \n",
            "3          0          0           0  ...        0          0       0        0   \n",
            "4          0          0           0  ...        0          0       0        0   \n",
            "\n",
            "   Mystery  Romance  Sci-Fi  Thriller  War  Western  \n",
            "0        0        0       0         0    0        0  \n",
            "1        0        0       0         1    0        0  \n",
            "2        0        0       0         1    0        0  \n",
            "3        0        0       0         0    0        0  \n",
            "4        0        0       0         1    0        0  \n",
            "\n",
            "[5 rows x 24 columns]\n"
          ]
        }
      ],
      "source": [
        "import pandas as pd\n",
        "\n",
        "# Load ratings data\n",
        "ratings=pd.read_csv('ml-100k/u.data', sep='\\t', names=['user_id', 'movie_id', 'rating', 'timestamp'])\n",
        "# Load movies data\n",
        "movies=pd.read_csv('ml-100k/u.item', sep='|', encoding='ISO-8859-1', names=['movie_id', 'title', 'release_date', 'video_release_date', 'IMDb_URL', 'unknown', 'Action', 'Adventure', 'Animation', \"Children's\", 'Comedy', 'Crime', 'Documentary', 'Drama', 'Fantasy', 'Film-Noir', 'Horror', 'Musical', 'Mystery', 'Romance', 'Sci-Fi', 'Thriller', 'War', 'Western'], usecols=range(24))\n",
        "\n",
        "print(ratings.head())\n",
        "print(movies.head())\n"
      ]
    },
    {
      "cell_type": "code",
      "execution_count": null,
      "metadata": {
        "colab": {
          "base_uri": "https://localhost:8080/",
          "height": 760
        },
        "id": "2hOtwuJ1Nw75",
        "outputId": "ff0e123d-dfef-40c4-baec-e6b3a32d3276"
      },
      "outputs": [
        {
          "data": {
            "image/png": "[encoded data removed]",
            "text/plain": [
              "<Figure size 800x600 with 1 Axes>"
            ]
          },
          "metadata": {},
          "output_type": "display_data"
        },
        {
          "name": "stdout",
          "output_type": "stream",
          "text": [
            "                           title  counts\n",
            "0               Star Wars (1977)     583\n",
            "1                 Contact (1997)     509\n",
            "2                   Fargo (1996)     508\n",
            "3      Return of the Jedi (1983)     507\n",
            "4               Liar Liar (1997)     485\n",
            "5    English Patient, The (1996)     481\n",
            "6                  Scream (1996)     478\n",
            "7               Toy Story (1995)     452\n",
            "8           Air Force One (1997)     431\n",
            "9  Independence Day (ID4) (1996)     429\n"
          ]
        }
      ],
      "source": [
        "import seaborn as sns\n",
        "import matplotlib.pyplot as plt\n",
        "\n",
        "# Rating distribution\n",
        "plt.figure(figsize=(8, 6))\n",
        "sns.countplot(x='rating', data=ratings)\n",
        "plt.title('Distribution of Ratings')\n",
        "plt.show()\n",
        "\n",
        "# Top 10 movies by number of ratings\n",
        "top_movies=ratings['movie_id'].value_counts().head(10)\n",
        "top_movies=pd.DataFrame({'movie_id': top_movies.index, 'counts': top_movies.values})\n",
        "top_movies=top_movies.merge(movies, on='movie_id', how='left')\n",
        "print(top_movies[['title', 'counts']])\n"
      ]
    },
    {
      "cell_type": "code",
      "execution_count": null,
      "metadata": {
        "colab": {
          "base_uri": "https://localhost:8080/"
        },
        "id": "yxBJ4CjaNz6p",
        "outputId": "9d362da9-a63b-4e1a-c33c-7fb40c45f6a0"
      },
      "outputs": [
        {
          "name": "stdout",
          "output_type": "stream",
          "text": [
            "user_id      0\n",
            "movie_id     0\n",
            "rating       0\n",
            "timestamp    0\n",
            "dtype: int64\n",
            "movie_id                 0\n",
            "title                    0\n",
            "release_date             1\n",
            "video_release_date    1682\n",
            "IMDb_URL                 3\n",
            "unknown                  0\n",
            "Action                   0\n",
            "Adventure                0\n",
            "Animation                0\n",
            "Children's               0\n",
            "Comedy                   0\n",
            "Crime                    0\n",
            "Documentary              0\n",
            "Drama                    0\n",
            "Fantasy                  0\n",
            "Film-Noir                0\n",
            "Horror                   0\n",
            "Musical                  0\n",
            "Mystery                  0\n",
            "Romance                  0\n",
            "Sci-Fi                   0\n",
            "Thriller                 0\n",
            "War                      0\n",
            "Western                  0\n",
            "dtype: int64\n"
          ]
        }
      ],
      "source": [
        "#Checking missing values\n",
        "print(ratings.isnull().sum())\n",
        "print(movies.isnull().sum())\n",
        "\n",
        "# Rrating should be between 1 and 5\n",
        "ratings=ratings[(ratings['rating'] >= 1) & (ratings['rating'] <= 5)]\n"
      ]
    },
    {
      "cell_type": "code",
      "execution_count": null,
      "metadata": {
        "colab": {
          "base_uri": "https://localhost:8080/",
          "height": 1000
        },
        "id": "ZutWb7jfN278",
        "outputId": "cda76230-8948-4541-8850-0beafefcb07d"
      },
      "outputs": [
        {
          "data": {
            "image/png": "[encoded data removed]",
            "text/plain": [
              "<Figure size 1000x600 with 1 Axes>"
            ]
          },
          "metadata": {},
          "output_type": "display_data"
        },
        {
          "data": {
            "image/png": "[encoded data removed]",
            "text/plain": [
              "<Figure size 1000x600 with 1 Axes>"
            ]
          },
          "metadata": {},
          "output_type": "display_data"
        }
      ],
      "source": [
        "# Number of ratings per movie\n",
        "ratings_per_movie=ratings['movie_id'].value_counts()\n",
        "plt.figure(figsize=(10, 6))\n",
        "plt.plot(ratings_per_movie.values)\n",
        "plt.title('Number of Ratings per Movie')\n",
        "plt.xlabel('Movies')\n",
        "plt.ylabel('Number of Ratings')\n",
        "plt.show()\n",
        "\n",
        "# Ratings over time\n",
        "ratings['datetime']=pd.to_datetime(ratings['timestamp'], unit='s')\n",
        "ratings['year']=ratings['datetime'].dt.year\n",
        "yearly_ratings=ratings.groupby('year').size()\n",
        "plt.figure(figsize=(10, 6))\n",
        "yearly_ratings.plot(kind='bar')\n",
        "plt.title('Ratings per Year')\n",
        "plt.xlabel('Year')\n",
        "plt.ylabel('Number of Ratings')\n",
        "plt.show()\n"
      ]
    },
    {
      "cell_type": "code",
      "execution_count": null,
      "metadata": {
        "id": "jvsepRT0N6Xy"
      },
      "outputs": [],
      "source": [
        "\n",
        "!apt-get install openjdk-8-jdk-headless -qq > /dev/null\n",
        "!wget -q https://archive.apache.org/dist/spark/spark-3.2.1/spark-3.2.1-bin-hadoop3.2.tgz\n",
        "!tar xf spark-3.2.1-bin-hadoop3.2.tgz"
      ]
    },
    {
      "cell_type": "code",
      "execution_count": null,
      "metadata": {
        "id": "8p4crr4wOR9S"
      },
      "outputs": [],
      "source": [
        "import os\n",
        "os.environ[\"JAVA_HOME\"]=\"/usr/lib/jvm/java-8-openjdk-amd64\"\n",
        "os.environ[\"SPARK_HOME\"]=\"/content/spark-3.2.1-bin-hadoop3.2\""
      ]
    },
    {
      "cell_type": "code",
      "execution_count": null,
      "metadata": {
        "colab": {
          "base_uri": "https://localhost:8080/"
        },
        "id": "bQBYuRyEOoDf",
        "outputId": "31cae984-ec6e-403f-f5d4-781631fbad4a"
      },
      "outputs": [
        {
          "name": "stdout",
          "output_type": "stream",
          "text": [
            "Collecting findspark\n",
            "  Downloading findspark-2.0.1-py2.py3-none-any.whl (4.4 kB)\n",
            "Installing collected packages: findspark\n",
            "Successfully installed findspark-2.0.1\n"
          ]
        }
      ],
      "source": [
        "!pip install findspark"
      ]
    },
    {
      "cell_type": "code",
      "execution_count": null,
      "metadata": {
        "id": "--zreZ8tOsqH"
      },
      "outputs": [],
      "source": [
        "import findspark\n",
        "findspark.init()"
      ]
    },
    {
      "cell_type": "code",
      "execution_count": null,
      "metadata": {
        "id": "yDsSHsQ5OvUu"
      },
      "outputs": [],
      "source": [
        "from pyspark.sql import SparkSession\n",
        "\n",
        "spark=SparkSession.builder.master(\"local[*]\").appName(\"Movie Recommendation\").getOrCreate()"
      ]
    },
    {
      "cell_type": "code",
      "execution_count": null,
      "metadata": {
        "colab": {
          "base_uri": "https://localhost:8080/"
        },
        "id": "ESpv7X5UO1ty",
        "outputId": "1aa9f4dc-a6b6-49e8-e02e-a3c4e986ea7e"
      },
      "outputs": [
        {
          "name": "stdout",
          "output_type": "stream",
          "text": [
            "+-------+--------+------+---------+\n",
            "|user_id|movie_id|rating|timestamp|\n",
            "+-------+--------+------+---------+\n",
            "|    196|     242|     3|881250949|\n",
            "|    186|     302|     3|891717742|\n",
            "|     22|     377|     1|878887116|\n",
            "|    244|      51|     2|880606923|\n",
            "|    166|     346|     1|886397596|\n",
            "+-------+--------+------+---------+\n",
            "only showing top 5 rows\n",
            "\n"
          ]
        }
      ],
      "source": [
        "# Assuming the data files have been uploaded and extracted\n",
        "from pyspark.sql.types import IntegerType, StructType, StructField\n",
        "\n",
        "# Define schema for ratings data\n",
        "schema=StructType([\n",
        "    StructField(\"user_id\", IntegerType(), True),\n",
        "    StructField(\"movie_id\", IntegerType(), True),\n",
        "    StructField(\"rating\", IntegerType(), True),\n",
        "    StructField(\"timestamp\", IntegerType(), True)\n",
        "])\n",
        "\n",
        "# Load ratings data directly into PySpark DataFrame using defined schema\n",
        "ratings_df=spark.read.csv('/content/ml-100k/u.data', schema=schema, sep='\\t')\n",
        "ratings_df.show(5)\n"
      ]
    },
    {
      "cell_type": "code",
      "execution_count": null,
      "metadata": {
        "id": "S-nbvNjUO555"
      },
      "outputs": [],
      "source": [
        "# Defining ALS model and train it\n",
        "from pyspark.ml.recommendation import ALS\n",
        "from pyspark.ml.evaluation import RegressionEvaluator\n",
        "\n",
        "als=ALS(maxIter=5, regParam=0.01, userCol=\"user_id\", itemCol=\"movie_id\", ratingCol=\"rating\", coldStartStrategy=\"drop\", nonnegative=True)\n",
        "model=als.fit(ratings_df)"
      ]
    },
    {
      "cell_type": "code",
      "execution_count": null,
      "metadata": {
        "colab": {
          "base_uri": "https://localhost:8080/"
        },
        "id": "P4UFb26dPZH_",
        "outputId": "e2ece9d8-da1d-47bf-b447-b8970dbd950f"
      },
      "outputs": [
        {
          "name": "stdout",
          "output_type": "stream",
          "text": [
            "Root-mean-square error = 0.7458458582472202\n"
          ]
        }
      ],
      "source": [
        "# Evaluating the model\n",
        "(training, test)=ratings_df.randomSplit([0.8, 0.2])\n",
        "predictions=model.transform(test)\n",
        "evaluator=RegressionEvaluator(metricName=\"rmse\", labelCol=\"rating\", predictionCol=\"prediction\")\n",
        "rmse=evaluator.evaluate(predictions)\n",
        "print(\"Root-mean-square error=\" + str(rmse))"
      ]
    },
    {
      "cell_type": "code",
      "execution_count": null,
      "metadata": {
        "id": "q00QFg60PfZA"
      },
      "outputs": [],
      "source": [
        "# Save the model\n",
        "model.save(\"/content/drive/MyDrive/movie_recommender_model\")"
      ]
    },
    {
      "cell_type": "code",
      "execution_count": null,
      "metadata": {
        "colab": {
          "base_uri": "https://localhost:8080/"
        },
        "id": "f5oly0OvPjPt",
        "outputId": "3af78bd5-cf88-4671-af89-e6638c704281"
      },
      "outputs": [
        {
          "name": "stdout",
          "output_type": "stream",
          "text": [
            "+--------+-----------------+-----------+\n",
            "|movie_id|            title|     genres|\n",
            "+--------+-----------------+-----------+\n",
            "|       1| Toy Story (1995)|01-Jan-1995|\n",
            "|       2| GoldenEye (1995)|01-Jan-1995|\n",
            "|       3|Four Rooms (1995)|01-Jan-1995|\n",
            "|       4|Get Shorty (1995)|01-Jan-1995|\n",
            "|       5|   Copycat (1995)|01-Jan-1995|\n",
            "+--------+-----------------+-----------+\n",
            "only showing top 5 rows\n",
            "\n"
          ]
        }
      ],
      "source": [
        "from pyspark.sql.types import StructType, StructField, IntegerType, StringType\n",
        "\n",
        "# Schema definition for the movies data\n",
        "movies_schema=StructType([\n",
        "    StructField(\"movie_id\", IntegerType(), True),\n",
        "    StructField(\"title\", StringType(), True),\n",
        "    StructField(\"genres\", StringType(), True)  # Genres are concatenated in one column\n",
        "])\n",
        "\n",
        "# Now, read the movies data with the schema\n",
        "movies_df=spark.read.csv('/content/ml-100k/u.item', schema=movies_schema, sep='|', encoding='ISO-8859-1')\n",
        "movies_df.show(5)\n"
      ]
    },
    {
      "cell_type": "code",
      "execution_count": null,
      "metadata": {
        "colab": {
          "base_uri": "https://localhost:8080/"
        },
        "id": "zkDRj-mTQgUy",
        "outputId": "8b968e92-9529-45b2-db03-b75ee9d9cfed"
      },
      "outputs": [
        {
          "name": "stdout",
          "output_type": "stream",
          "text": [
            "root\n",
            " |-- movie_id: integer (nullable = true)\n",
            " |-- title: string (nullable = true)\n",
            " |-- genres: array (nullable = true)\n",
            " |    |-- element: string (containsNull = true)\n",
            "\n",
            "+--------+-----------------+---------------+\n",
            "|movie_id|title            |genre_features |\n",
            "+--------+-----------------+---------------+\n",
            "|1       |Toy Story (1995) |(241,[0],[1.0])|\n",
            "|2       |GoldenEye (1995) |(241,[0],[1.0])|\n",
            "|3       |Four Rooms (1995)|(241,[0],[1.0])|\n",
            "|4       |Get Shorty (1995)|(241,[0],[1.0])|\n",
            "|5       |Copycat (1995)   |(241,[0],[1.0])|\n",
            "+--------+-----------------+---------------+\n",
            "only showing top 5 rows\n",
            "\n"
          ]
        }
      ],
      "source": [
        "from pyspark.sql.functions import col, udf, split\n",
        "from pyspark.sql.types import StringType, ArrayType\n",
        "from pyspark.ml.feature import CountVectorizer\n",
        "\n",
        "# movies_df is loaded correctly with 'genres' as a single string\n",
        "# Checking the current schema to confirm the data types\n",
        "movies_df.printSchema()\n",
        "\n",
        "# If 'genres' is not an array, split it into an array\n",
        "if isinstance(movies_df.schema[\"genres\"].dataType, StringType):\n",
        "    movies_df=movies_df.withColumn(\"genres\", split(col(\"genres\"), \"\\|\"))\n",
        "\n",
        "# Ensure there are no null or empty genre arrays\n",
        "fix_empty_genres=udf(lambda x: x if x and len(x) > 0 else [\"unknown\"], ArrayType(StringType()))\n",
        "movies_df=movies_df.withColumn(\"genres\", fix_empty_genres(col(\"genres\")))\n",
        "\n",
        "# Vectorize the genres\n",
        "vectorizer=CountVectorizer(inputCol=\"genres\", outputCol=\"genre_features\")\n",
        "model=vectorizer.fit(movies_df)\n",
        "movies_df=model.transform(movies_df)\n",
        "\n",
        "# Show the transformed DataFrame\n",
        "movies_df.select(\"movie_id\", \"title\", \"genre_features\").show(5, truncate=False)\n"
      ]
    },
    {
      "cell_type": "code",
      "execution_count": null,
      "metadata": {
        "colab": {
          "base_uri": "https://localhost:8080/"
        },
        "id": "2jK0uM0tQ7Fb",
        "outputId": "bf5f3202-2253-4fba-dbba-bce1459eae21"
      },
      "outputs": [
        {
          "name": "stdout",
          "output_type": "stream",
          "text": [
            "+-------+--------+------+----------------+\n",
            "|user_id|movie_id|rating|  genre_features|\n",
            "+-------+--------+------+----------------+\n",
            "|    196|     242|     3|(241,[69],[1.0])|\n",
            "|    186|     302|     3| (241,[3],[1.0])|\n",
            "|     22|     377|     1| (241,[1],[1.0])|\n",
            "|    244|      51|     2| (241,[1],[1.0])|\n",
            "|    166|     346|     1| (241,[3],[1.0])|\n",
            "+-------+--------+------+----------------+\n",
            "only showing top 5 rows\n",
            "\n"
          ]
        }
      ],
      "source": [
        "# Join ratings with movies to get genre features along with ratings\n",
        "data_model=ratings_df.join(movies_df, \"movie_id\").select(\"user_id\", \"movie_id\", \"rating\", \"genre_features\")\n",
        "data_model.show(5)\n"
      ]
    },
    {
      "cell_type": "code",
      "execution_count": null,
      "metadata": {
        "colab": {
          "base_uri": "https://localhost:8080/"
        },
        "id": "__Bl41r_RdjN",
        "outputId": "9449f5ee-c91d-4866-dc31-8815a3bacbdf"
      },
      "outputs": [
        {
          "name": "stdout",
          "output_type": "stream",
          "text": [
            "+-------+--------+------+----------------+----------+\n",
            "|user_id|movie_id|rating|  genre_features|prediction|\n",
            "+-------+--------+------+----------------+----------+\n",
            "|    196|     242|     3|(241,[69],[1.0])|   3.75477|\n",
            "|    186|     302|     3| (241,[3],[1.0])| 3.2611845|\n",
            "|     22|     377|     1| (241,[1],[1.0])| 1.0592835|\n",
            "|    244|      51|     2| (241,[1],[1.0])| 3.4003916|\n",
            "|    166|     346|     1| (241,[3],[1.0])| 2.2289593|\n",
            "+-------+--------+------+----------------+----------+\n",
            "only showing top 5 rows\n",
            "\n"
          ]
        }
      ],
      "source": [
        "from pyspark.ml.recommendation import ALS\n",
        "from pyspark.ml.evaluation import RegressionEvaluator\n",
        "\n",
        "# Define and train the ALS model\n",
        "als=ALS(maxIter=10, regParam=0.1, userCol=\"user_id\", itemCol=\"movie_id\", ratingCol=\"rating\", coldStartStrategy=\"drop\")\n",
        "model=als.fit(data_model)\n",
        "\n",
        "# Predict ratings\n",
        "predictions=model.transform(data_model)\n",
        "predictions.show(5)\n"
      ]
    },
    {
      "cell_type": "code",
      "execution_count": null,
      "metadata": {
        "colab": {
          "base_uri": "https://localhost:8080/"
        },
        "id": "V1oYc2xbRgov",
        "outputId": "15e4887b-e4fa-41a5-86aa-5adc445900a9"
      },
      "outputs": [
        {
          "name": "stdout",
          "output_type": "stream",
          "text": [
            "Root-mean-square error = 0.7725018565282938\n"
          ]
        }
      ],
      "source": [
        "# Evaluate the model\n",
        "evaluator=RegressionEvaluator(metricName=\"rmse\", labelCol=\"rating\", predictionCol=\"prediction\")\n",
        "rmse=evaluator.evaluate(predictions)\n",
        "print(f\"Root-mean-square error={rmse}\")\n"
      ]
    },
    {
      "cell_type": "code",
      "execution_count": null,
      "metadata": {
        "id": "I5bG2OeQRkwV"
      },
      "outputs": [],
      "source": [
        "# Add a content score to the predictions DataFrame for demonstration purposes\n",
        "# This could be a more complex computation in practice\n",
        "predictions=predictions.withColumn(\"content_score\", col(\"prediction\"))  # Placeholder for content score\n"
      ]
    },
    {
      "cell_type": "code",
      "execution_count": null,
      "metadata": {
        "colab": {
          "base_uri": "https://localhost:8080/"
        },
        "id": "j8RGi-H5Ro3x",
        "outputId": "6d193e04-fd4a-44f9-c2c8-77596264445e"
      },
      "outputs": [
        {
          "name": "stdout",
          "output_type": "stream",
          "text": [
            "+-------+--------+------------------+\n",
            "|user_id|movie_id|       final_score|\n",
            "+-------+--------+------------------+\n",
            "|    196|     242|3.7547700405120845|\n",
            "|    186|     302| 3.261184453964233|\n",
            "|     22|     377|1.0592834949493408|\n",
            "|    244|      51|3.4003915786743164|\n",
            "|    166|     346| 2.228959321975708|\n",
            "+-------+--------+------------------+\n",
            "only showing top 5 rows\n",
            "\n"
          ]
        }
      ],
      "source": [
        "from pyspark.sql.functions import col\n",
        "\n",
        "# Adjust the weights as necessary to optimize performance\n",
        "# Ensure both 'prediction' and 'content_score' are defined in the DataFrame\n",
        "hybrid_predictions=predictions.withColumn(\"final_score\", (col(\"prediction\") * 0.7 + col(\"content_score\") * 0.3))\n",
        "hybrid_predictions.select(\"user_id\", \"movie_id\", \"final_score\").show(5)\n"
      ]
    },
    {
      "cell_type": "code",
      "execution_count": null,
      "metadata": {
        "colab": {
          "base_uri": "https://localhost:8080/"
        },
        "id": "kXHHu1o9R9q2",
        "outputId": "14677423-10a2-4385-a6d5-439525b4fc0d"
      },
      "outputs": [
        {
          "name": "stdout",
          "output_type": "stream",
          "text": [
            "+-------+--------+------------------+\n",
            "|user_id|movie_id|       final_score|\n",
            "+-------+--------+------------------+\n",
            "|    196|     242|3.7547700405120845|\n",
            "|    186|     302| 3.261184453964233|\n",
            "|     22|     377|1.0592834949493408|\n",
            "|    244|      51|3.4003915786743164|\n",
            "|    166|     346| 2.228959321975708|\n",
            "+-------+--------+------------------+\n",
            "only showing top 5 rows\n",
            "\n"
          ]
        }
      ],
      "source": [
        "from pyspark.sql.functions import col\n",
        "\n",
        "# Assuming 'model' is your trained ALS model\n",
        "predictions=model.transform(data_model)\n",
        "\n",
        "# Add a content score to the predictions DataFrame for demonstration purposes\n",
        "# In practice, replace this with your actual content-based scoring logic\n",
        "predictions=predictions.withColumn(\"content_score\", col(\"prediction\"))  # Placeholder for content score\n",
        "\n",
        "# Calculate a hybrid score by combining content and collaborative filtering scores\n",
        "hybrid_predictions=predictions.withColumn(\"final_score\", (col(\"prediction\") * 0.7 + col(\"content_score\") * 0.3))\n",
        "hybrid_predictions.select(\"user_id\", \"movie_id\", \"final_score\").show(5)\n",
        "\n",
        "# Now you can evaluate the hybrid_predictions if needed or use them for making recommendations\n"
      ]
    },
    {
      "cell_type": "code",
      "execution_count": null,
      "metadata": {
        "colab": {
          "base_uri": "https://localhost:8080/"
        },
        "id": "0r_zk3zLR_2E",
        "outputId": "2feff8c1-92d1-41a8-d748-dcf83b773cf7"
      },
      "outputs": [
        {
          "name": "stdout",
          "output_type": "stream",
          "text": [
            "Requirement already satisfied: tensorflow in /usr/local/lib/python3.10/dist-packages (2.15.0)\n",
            "Requirement already satisfied: absl-py>=1.0.0 in /usr/local/lib/python3.10/dist-packages (from tensorflow) (1.4.0)\n",
            "Requirement already satisfied: astunparse>=1.6.0 in /usr/local/lib/python3.10/dist-packages (from tensorflow) (1.6.3)\n",
            "Requirement already satisfied: flatbuffers>=23.5.26 in /usr/local/lib/python3.10/dist-packages (from tensorflow) (24.3.25)\n",
            "Requirement already satisfied: gast!=0.5.0,!=0.5.1,!=0.5.2,>=0.2.1 in /usr/local/lib/python3.10/dist-packages (from tensorflow) (0.5.4)\n",
            "Requirement already satisfied: google-pasta>=0.1.1 in /usr/local/lib/python3.10/dist-packages (from tensorflow) (0.2.0)\n",
            "Requirement already satisfied: h5py>=2.9.0 in /usr/local/lib/python3.10/dist-packages (from tensorflow) (3.9.0)\n",
            "Requirement already satisfied: libclang>=13.0.0 in /usr/local/lib/python3.10/dist-packages (from tensorflow) (18.1.1)\n",
            "Requirement already satisfied: ml-dtypes~=0.2.0 in /usr/local/lib/python3.10/dist-packages (from tensorflow) (0.2.0)\n",
            "Requirement already satisfied: numpy<2.0.0,>=1.23.5 in /usr/local/lib/python3.10/dist-packages (from tensorflow) (1.25.2)\n",
            "Requirement already satisfied: opt-einsum>=2.3.2 in /usr/local/lib/python3.10/dist-packages (from tensorflow) (3.3.0)\n",
            "Requirement already satisfied: packaging in /usr/local/lib/python3.10/dist-packages (from tensorflow) (24.0)\n",
            "Requirement already satisfied: protobuf!=4.21.0,!=4.21.1,!=4.21.2,!=4.21.3,!=4.21.4,!=4.21.5,<5.0.0dev,>=3.20.3 in /usr/local/lib/python3.10/dist-packages (from tensorflow) (3.20.3)\n",
            "Requirement already satisfied: setuptools in /usr/local/lib/python3.10/dist-packages (from tensorflow) (67.7.2)\n",
            "Requirement already satisfied: six>=1.12.0 in /usr/local/lib/python3.10/dist-packages (from tensorflow) (1.16.0)\n",
            "Requirement already satisfied: termcolor>=1.1.0 in /usr/local/lib/python3.10/dist-packages (from tensorflow) (2.4.0)\n",
            "Requirement already satisfied: typing-extensions>=3.6.6 in /usr/local/lib/python3.10/dist-packages (from tensorflow) (4.11.0)\n",
            "Requirement already satisfied: wrapt<1.15,>=1.11.0 in /usr/local/lib/python3.10/dist-packages (from tensorflow) (1.14.1)\n",
            "Requirement already satisfied: tensorflow-io-gcs-filesystem>=0.23.1 in /usr/local/lib/python3.10/dist-packages (from tensorflow) (0.36.0)\n",
            "Requirement already satisfied: grpcio<2.0,>=1.24.3 in /usr/local/lib/python3.10/dist-packages (from tensorflow) (1.62.2)\n",
            "Requirement already satisfied: tensorboard<2.16,>=2.15 in /usr/local/lib/python3.10/dist-packages (from tensorflow) (2.15.2)\n",
            "Requirement already satisfied: tensorflow-estimator<2.16,>=2.15.0 in /usr/local/lib/python3.10/dist-packages (from tensorflow) (2.15.0)\n",
            "Requirement already satisfied: keras<2.16,>=2.15.0 in /usr/local/lib/python3.10/dist-packages (from tensorflow) (2.15.0)\n",
            "Requirement already satisfied: wheel<1.0,>=0.23.0 in /usr/local/lib/python3.10/dist-packages (from astunparse>=1.6.0->tensorflow) (0.43.0)\n",
            "Requirement already satisfied: google-auth<3,>=1.6.3 in /usr/local/lib/python3.10/dist-packages (from tensorboard<2.16,>=2.15->tensorflow) (2.27.0)\n",
            "Requirement already satisfied: google-auth-oauthlib<2,>=0.5 in /usr/local/lib/python3.10/dist-packages (from tensorboard<2.16,>=2.15->tensorflow) (1.2.0)\n",
            "Requirement already satisfied: markdown>=2.6.8 in /usr/local/lib/python3.10/dist-packages (from tensorboard<2.16,>=2.15->tensorflow) (3.6)\n",
            "Requirement already satisfied: requests<3,>=2.21.0 in /usr/local/lib/python3.10/dist-packages (from tensorboard<2.16,>=2.15->tensorflow) (2.31.0)\n",
            "Requirement already satisfied: tensorboard-data-server<0.8.0,>=0.7.0 in /usr/local/lib/python3.10/dist-packages (from tensorboard<2.16,>=2.15->tensorflow) (0.7.2)\n",
            "Requirement already satisfied: werkzeug>=1.0.1 in /usr/local/lib/python3.10/dist-packages (from tensorboard<2.16,>=2.15->tensorflow) (3.0.2)\n",
            "Requirement already satisfied: cachetools<6.0,>=2.0.0 in /usr/local/lib/python3.10/dist-packages (from google-auth<3,>=1.6.3->tensorboard<2.16,>=2.15->tensorflow) (5.3.3)\n",
            "Requirement already satisfied: pyasn1-modules>=0.2.1 in /usr/local/lib/python3.10/dist-packages (from google-auth<3,>=1.6.3->tensorboard<2.16,>=2.15->tensorflow) (0.4.0)\n",
            "Requirement already satisfied: rsa<5,>=3.1.4 in /usr/local/lib/python3.10/dist-packages (from google-auth<3,>=1.6.3->tensorboard<2.16,>=2.15->tensorflow) (4.9)\n",
            "Requirement already satisfied: requests-oauthlib>=0.7.0 in /usr/local/lib/python3.10/dist-packages (from google-auth-oauthlib<2,>=0.5->tensorboard<2.16,>=2.15->tensorflow) (1.3.1)\n",
            "Requirement already satisfied: charset-normalizer<4,>=2 in /usr/local/lib/python3.10/dist-packages (from requests<3,>=2.21.0->tensorboard<2.16,>=2.15->tensorflow) (3.3.2)\n",
            "Requirement already satisfied: idna<4,>=2.5 in /usr/local/lib/python3.10/dist-packages (from requests<3,>=2.21.0->tensorboard<2.16,>=2.15->tensorflow) (3.7)\n",
            "Requirement already satisfied: urllib3<3,>=1.21.1 in /usr/local/lib/python3.10/dist-packages (from requests<3,>=2.21.0->tensorboard<2.16,>=2.15->tensorflow) (2.0.7)\n",
            "Requirement already satisfied: certifi>=2017.4.17 in /usr/local/lib/python3.10/dist-packages (from requests<3,>=2.21.0->tensorboard<2.16,>=2.15->tensorflow) (2024.2.2)\n",
            "Requirement already satisfied: MarkupSafe>=2.1.1 in /usr/local/lib/python3.10/dist-packages (from werkzeug>=1.0.1->tensorboard<2.16,>=2.15->tensorflow) (2.1.5)\n",
            "Requirement already satisfied: pyasn1<0.7.0,>=0.4.6 in /usr/local/lib/python3.10/dist-packages (from pyasn1-modules>=0.2.1->google-auth<3,>=1.6.3->tensorboard<2.16,>=2.15->tensorflow) (0.6.0)\n",
            "Requirement already satisfied: oauthlib>=3.0.0 in /usr/local/lib/python3.10/dist-packages (from requests-oauthlib>=0.7.0->google-auth-oauthlib<2,>=0.5->tensorboard<2.16,>=2.15->tensorflow) (3.2.2)\n"
          ]
        }
      ],
      "source": [
        "!pip install tensorflow\n"
      ]
    },
    {
      "cell_type": "code",
      "execution_count": null,
      "metadata": {
        "id": "RMjamKMwTGd4"
      },
      "outputs": [],
      "source": [
        "import tensorflow as tf\n",
        "from sklearn.model_selection import train_test_split\n",
        "\n",
        "# Assuming 'data_model' is your Spark DataFrame containing user_id, movie_id, and ratings\n",
        "pandas_df=data_model.toPandas()\n",
        "\n",
        "# Prepare dataset for TensorFlow\n",
        "user_ids=pandas_df[['user_id']].values.astype('int32')\n",
        "movie_ids=pandas_df[['movie_id']].values.astype('int32')\n",
        "ratings=pandas_df[['rating']].values.astype('float32')\n",
        "\n",
        "# Split data\n",
        "user_train, user_test, movie_train, movie_test, rating_train, rating_test=train_test_split(user_ids, movie_ids, ratings, test_size=0.2, random_state=42)\n"
      ]
    },
    {
      "cell_type": "code",
      "execution_count": null,
      "metadata": {
        "colab": {
          "base_uri": "https://localhost:8080/"
        },
        "id": "6tG_4Ni1TJdS",
        "outputId": "3ef75402-2896-4962-8f45-bb5bde64eb02"
      },
      "outputs": [
        {
          "name": "stdout",
          "output_type": "stream",
          "text": [
            "Model: \"model\"\n",
            "__________________________________________________________________________________________________\n",
            " Layer (type)                Output Shape                 Param #   Connected to                  \n",
            "==================================================================================================\n",
            " user_input (InputLayer)     [(None, 1)]                  0         []                            \n",
            "                                                                                                  \n",
            " item_input (InputLayer)     [(None, 1)]                  0         []                            \n",
            "                                                                                                  \n",
            " user_embedding (Embedding)  (None, 1, 50)                47200     ['user_input[0][0]']          \n",
            "                                                                                                  \n",
            " item_embedding (Embedding)  (None, 1, 50)                84150     ['item_input[0][0]']          \n",
            "                                                                                                  \n",
            " flatten_users (Flatten)     (None, 50)                   0         ['user_embedding[0][0]']      \n",
            "                                                                                                  \n",
            " flatten_items (Flatten)     (None, 50)                   0         ['item_embedding[0][0]']      \n",
            "                                                                                                  \n",
            " concatenate (Concatenate)   (None, 100)                  0         ['flatten_users[0][0]',       \n",
            "                                                                     'flatten_items[0][0]']       \n",
            "                                                                                                  \n",
            " dense (Dense)               (None, 128)                  12928     ['concatenate[0][0]']         \n",
            "                                                                                                  \n",
            " dense_1 (Dense)             (None, 32)                   4128      ['dense[0][0]']               \n",
            "                                                                                                  \n",
            " dense_2 (Dense)             (None, 1)                    33        ['dense_1[0][0]']             \n",
            "                                                                                                  \n",
            "==================================================================================================\n",
            "Total params: 148439 (579.84 KB)\n",
            "Trainable params: 148439 (579.84 KB)\n",
            "Non-trainable params: 0 (0.00 Byte)\n",
            "__________________________________________________________________________________________________\n",
            "Epoch 1/5\n",
            "2500/2500 [==============================] - 21s 7ms/step - loss: 1.1480 - val_loss: 0.9095\n",
            "Epoch 2/5\n",
            "2500/2500 [==============================] - 9s 4ms/step - loss: 0.8826 - val_loss: 0.8921\n",
            "Epoch 3/5\n",
            "2500/2500 [==============================] - 10s 4ms/step - loss: 0.8419 - val_loss: 0.8748\n",
            "Epoch 4/5\n",
            "2500/2500 [==============================] - 10s 4ms/step - loss: 0.8006 - val_loss: 0.8537\n",
            "Epoch 5/5\n",
            "2500/2500 [==============================] - 10s 4ms/step - loss: 0.7606 - val_loss: 0.8599\n"
          ]
        },
        {
          "data": {
            "text/plain": [
              "<keras.src.callbacks.History at 0x793666fc7520>"
            ]
          },
          "execution_count": 32,
          "metadata": {},
          "output_type": "execute_result"
        }
      ],
      "source": [
        "from tensorflow.keras.models import Model\n",
        "from tensorflow.keras.layers import Input, Embedding, Flatten, Dot, Dense, Concatenate\n",
        "from tensorflow.keras.optimizers import Adam\n",
        "\n",
        "# Number of latent factors\n",
        "n_latent_factors=50\n",
        "\n",
        "# Input layers\n",
        "user_input=Input(shape=(1,), name='user_input', dtype='int32')\n",
        "item_input=Input(shape=(1,), name='item_input', dtype='int32')\n",
        "\n",
        "# Embedding layers\n",
        "user_embedding=Embedding(input_dim=pandas_df['user_id'].max() + 1, output_dim=n_latent_factors, name='user_embedding')(user_input)\n",
        "item_embedding=Embedding(input_dim=pandas_df['movie_id'].max() + 1, output_dim=n_latent_factors, name='item_embedding')(item_input)\n",
        "\n",
        "# Flatten the embeddings\n",
        "user_vec=Flatten(name='flatten_users')(user_embedding)\n",
        "item_vec=Flatten(name='flatten_items')(item_embedding)\n",
        "\n",
        "# Concatenate the embeddings (could use dot product instead)\n",
        "concat=Concatenate()([user_vec, item_vec])\n",
        "\n",
        "# Fully connected layers\n",
        "fc1=Dense(128, activation='relu')(concat)\n",
        "fc2=Dense(32, activation='relu')(fc1)\n",
        "output=Dense(1, activation='linear')(fc2)\n",
        "\n",
        "# Create and compile model\n",
        "model=Model([user_input, item_input], output)\n",
        "model.compile(optimizer=Adam(0.001), loss='mean_squared_error')\n",
        "\n",
        "# Model summary\n",
        "model.summary()\n",
        "\n",
        "# Train model\n",
        "model.fit([user_train, movie_train], rating_train, validation_data=([user_test, movie_test], rating_test), epochs=5, verbose=1)\n"
      ]
    },
    {
      "cell_type": "code",
      "execution_count": null,
      "metadata": {
        "colab": {
          "base_uri": "https://localhost:8080/"
        },
        "id": "cctOyK_mTYwo",
        "outputId": "24161435-b93e-48c1-a33a-76281727080c"
      },
      "outputs": [
        {
          "name": "stdout",
          "output_type": "stream",
          "text": [
            "625/625 [==============================] - 2s 4ms/step - loss: 0.8599\n",
            "Test MSE: 0.859893262386322\n"
          ]
        }
      ],
      "source": [
        "# Evaluate the model\n",
        "test_loss=model.evaluate([user_test, movie_test], rating_test)\n",
        "print(f'Test MSE: {test_loss}')\n"
      ]
    },
    {
      "cell_type": "code",
      "execution_count": null,
      "metadata": {
        "colab": {
          "base_uri": "https://localhost:8080/"
        },
        "id": "z9dvxkUHTrYr",
        "outputId": "0f0c1c42-f375-4a18-8741-76a90b18d4a9"
      },
      "outputs": [
        {
          "name": "stdout",
          "output_type": "stream",
          "text": [
            "root\n",
            " |-- movie_id: integer (nullable = true)\n",
            " |-- title: string (nullable = true)\n",
            " |-- genres: array (nullable = true)\n",
            " |    |-- element: string (containsNull = true)\n",
            " |-- genre_features: vector (nullable = true)\n",
            "\n"
          ]
        }
      ],
      "source": [
        "# Print the schema to see the data types\n",
        "movies_df.printSchema()\n"
      ]
    },
    {
      "cell_type": "code",
      "execution_count": null,
      "metadata": {
        "colab": {
          "base_uri": "https://localhost:8080/"
        },
        "id": "5DhgKLjgT7kU",
        "outputId": "f137c650-888b-47e4-8254-9ff77e0f3792"
      },
      "outputs": [
        {
          "name": "stdout",
          "output_type": "stream",
          "text": [
            "Column 'genre_features' already exists. Choosing a new name for output column.\n",
            "+--------+----------------------------------------------------+------------------+\n",
            "|movie_id|title                                               |genre_features_new|\n",
            "+--------+----------------------------------------------------+------------------+\n",
            "|1       |Toy Story (1995)                                    |(241,[0],[1.0])   |\n",
            "|2       |GoldenEye (1995)                                    |(241,[0],[1.0])   |\n",
            "|3       |Four Rooms (1995)                                   |(241,[0],[1.0])   |\n",
            "|4       |Get Shorty (1995)                                   |(241,[0],[1.0])   |\n",
            "|5       |Copycat (1995)                                      |(241,[0],[1.0])   |\n",
            "|6       |Shanghai Triad (Yao a yao yao dao waipo qiao) (1995)|(241,[0],[1.0])   |\n",
            "|7       |Twelve Monkeys (1995)                               |(241,[0],[1.0])   |\n",
            "|8       |Babe (1995)                                         |(241,[0],[1.0])   |\n",
            "|9       |Dead Man Walking (1995)                             |(241,[0],[1.0])   |\n",
            "|10      |Richard III (1995)                                  |(241,[199],[1.0]) |\n",
            "|11      |Seven (Se7en) (1995)                                |(241,[0],[1.0])   |\n",
            "|12      |Usual Suspects, The (1995)                          |(241,[232],[1.0]) |\n",
            "|13      |Mighty Aphrodite (1995)                             |(241,[214],[1.0]) |\n",
            "|14      |Postino, Il (1994)                                  |(241,[1],[1.0])   |\n",
            "|15      |Mr. Holland's Opus (1995)                           |(241,[219],[1.0]) |\n",
            "|16      |French Twist (Gazon maudit) (1995)                  |(241,[0],[1.0])   |\n",
            "|17      |From Dusk Till Dawn (1996)                          |(241,[189],[1.0]) |\n",
            "|18      |White Balloon, The (1995)                           |(241,[0],[1.0])   |\n",
            "|19      |Antonia's Line (1995)                               |(241,[0],[1.0])   |\n",
            "|20      |Angels and Insects (1995)                           |(241,[0],[1.0])   |\n",
            "+--------+----------------------------------------------------+------------------+\n",
            "only showing top 20 rows\n",
            "\n"
          ]
        }
      ],
      "source": [
        "from pyspark.ml.feature import CountVectorizer\n",
        "\n",
        "# Check if the column 'genre_features' already exists, and if so, create a new one\n",
        "if \"genre_features\" in movies_df.columns:\n",
        "    print(\"Column 'genre_features' already exists. Choosing a new name for output column.\")\n",
        "    output_column_name=\"genre_features_new\"\n",
        "else:\n",
        "    output_column_name=\"genre_features\"\n",
        "\n",
        "# Configure CountVectorizer with a new output column name to avoid conflicts\n",
        "vectorizer=CountVectorizer(inputCol=\"genres\", outputCol=output_column_name)\n",
        "model=vectorizer.fit(movies_df)\n",
        "movies_df=model.transform(movies_df)\n",
        "\n",
        "# Display the transformed DataFrame to verify the new genre features\n",
        "movies_df.select(\"movie_id\", \"title\", output_column_name).show(truncate=False)\n"
      ]
    },
    {
      "cell_type": "code",
      "execution_count": null,
      "metadata": {
        "colab": {
          "base_uri": "https://localhost:8080/"
        },
        "id": "yvgus04LUfRh",
        "outputId": "b15df314-630e-4480-d2d7-c353a85f719f"
      },
      "outputs": [
        {
          "name": "stdout",
          "output_type": "stream",
          "text": [
            "+--------+----------------------------------------------------+-----------------+\n",
            "|movie_id|title                                               |genre_features   |\n",
            "+--------+----------------------------------------------------+-----------------+\n",
            "|1       |Toy Story (1995)                                    |(241,[0],[1.0])  |\n",
            "|2       |GoldenEye (1995)                                    |(241,[0],[1.0])  |\n",
            "|3       |Four Rooms (1995)                                   |(241,[0],[1.0])  |\n",
            "|4       |Get Shorty (1995)                                   |(241,[0],[1.0])  |\n",
            "|5       |Copycat (1995)                                      |(241,[0],[1.0])  |\n",
            "|6       |Shanghai Triad (Yao a yao yao dao waipo qiao) (1995)|(241,[0],[1.0])  |\n",
            "|7       |Twelve Monkeys (1995)                               |(241,[0],[1.0])  |\n",
            "|8       |Babe (1995)                                         |(241,[0],[1.0])  |\n",
            "|9       |Dead Man Walking (1995)                             |(241,[0],[1.0])  |\n",
            "|10      |Richard III (1995)                                  |(241,[199],[1.0])|\n",
            "|11      |Seven (Se7en) (1995)                                |(241,[0],[1.0])  |\n",
            "|12      |Usual Suspects, The (1995)                          |(241,[232],[1.0])|\n",
            "|13      |Mighty Aphrodite (1995)                             |(241,[214],[1.0])|\n",
            "|14      |Postino, Il (1994)                                  |(241,[1],[1.0])  |\n",
            "|15      |Mr. Holland's Opus (1995)                           |(241,[219],[1.0])|\n",
            "|16      |French Twist (Gazon maudit) (1995)                  |(241,[0],[1.0])  |\n",
            "|17      |From Dusk Till Dawn (1996)                          |(241,[189],[1.0])|\n",
            "|18      |White Balloon, The (1995)                           |(241,[0],[1.0])  |\n",
            "|19      |Antonia's Line (1995)                               |(241,[0],[1.0])  |\n",
            "|20      |Angels and Insects (1995)                           |(241,[0],[1.0])  |\n",
            "+--------+----------------------------------------------------+-----------------+\n",
            "only showing top 20 rows\n",
            "\n"
          ]
        }
      ],
      "source": [
        "# Display existing 'genre_features' to understand what's currently stored\n",
        "movies_df.select(\"movie_id\", \"title\", \"genre_features\").show(truncate=False)\n"
      ]
    },
    {
      "cell_type": "code",
      "execution_count": null,
      "metadata": {
        "colab": {
          "base_uri": "https://localhost:8080/"
        },
        "id": "cfFoe1QrUrju",
        "outputId": "94814f38-0e38-4a1a-aed5-7ffe556f7058"
      },
      "outputs": [
        {
          "name": "stdout",
          "output_type": "stream",
          "text": [
            "+--------+---------------+\n",
            "|movie_id|genre_features |\n",
            "+--------+---------------+\n",
            "|1       |(241,[0],[1.0])|\n",
            "|2       |(241,[0],[1.0])|\n",
            "|3       |(241,[0],[1.0])|\n",
            "|4       |(241,[0],[1.0])|\n",
            "|5       |(241,[0],[1.0])|\n",
            "+--------+---------------+\n",
            "only showing top 5 rows\n",
            "\n"
          ]
        }
      ],
      "source": [
        "from pyspark.sql.functions import first\n",
        "\n",
        "# Group by movie_id and aggregate genre vectors\n",
        "movies_aggregated=movies_df.groupBy(\"movie_id\").agg(first(output_column_name).alias(\"genre_features\"))\n",
        "movies_aggregated.show(5, truncate=False)\n"
      ]
    },
    {
      "cell_type": "code",
      "execution_count": null,
      "metadata": {
        "colab": {
          "base_uri": "https://localhost:8080/"
        },
        "id": "KwlzG9XkUzJv",
        "outputId": "51145e55-b3e9-42b2-e06a-cbb22d607567"
      },
      "outputs": [
        {
          "name": "stdout",
          "output_type": "stream",
          "text": [
            "+--------+-------+------+---------+----------------+\n",
            "|movie_id|user_id|rating|timestamp|genre_features  |\n",
            "+--------+-------+------+---------+----------------+\n",
            "|242     |196    |3     |881250949|(241,[69],[1.0])|\n",
            "|302     |186    |3     |891717742|(241,[3],[1.0]) |\n",
            "|377     |22     |1     |878887116|(241,[1],[1.0]) |\n",
            "|51      |244    |2     |880606923|(241,[1],[1.0]) |\n",
            "|346     |166    |1     |886397596|(241,[3],[1.0]) |\n",
            "+--------+-------+------+---------+----------------+\n",
            "only showing top 5 rows\n",
            "\n"
          ]
        }
      ],
      "source": [
        "# Assuming 'ratings_df' is your DataFrame containing user ratings\n",
        "full_data=ratings_df.join(movies_aggregated, on=\"movie_id\", how=\"inner\")\n",
        "full_data.show(5, truncate=False)\n"
      ]
    },
    {
      "cell_type": "code",
      "execution_count": null,
      "metadata": {
        "id": "KbT57jgzU1Mi"
      },
      "outputs": [],
      "source": [
        "# Convert to Pandas DataFrame for use in TensorFlow or similar\n",
        "full_data_pd=full_data.toPandas()\n",
        "\n",
        "# Alternatively, you can directly work with PySpark MLlib to train models within the Spark environment\n"
      ]
    },
    {
      "cell_type": "code",
      "execution_count": null,
      "metadata": {
        "colab": {
          "base_uri": "https://localhost:8080/"
        },
        "id": "Go7ELhqoU3iC",
        "outputId": "cbb01e4c-ef03-42a2-dd78-a28d72b065e7"
      },
      "outputs": [
        {
          "name": "stdout",
          "output_type": "stream",
          "text": [
            "Epoch 1/5\n",
            "2813/2813 [==============================] - 10s 3ms/step - loss: 1.2389 - val_loss: 0.9098\n",
            "Epoch 2/5\n",
            "2813/2813 [==============================] - 9s 3ms/step - loss: 0.8992 - val_loss: 0.9041\n",
            "Epoch 3/5\n",
            "2813/2813 [==============================] - 10s 4ms/step - loss: 0.8848 - val_loss: 0.8990\n",
            "Epoch 4/5\n",
            "2813/2813 [==============================] - 9s 3ms/step - loss: 0.8659 - val_loss: 0.8774\n",
            "Epoch 5/5\n",
            "2813/2813 [==============================] - 9s 3ms/step - loss: 0.8418 - val_loss: 0.8702\n"
          ]
        },
        {
          "data": {
            "text/plain": [
              "<keras.src.callbacks.History at 0x7936669a9720>"
            ]
          },
          "execution_count": 44,
          "metadata": {},
          "output_type": "execute_result"
        }
      ],
      "source": [
        "import tensorflow as tf\n",
        "from tensorflow.keras.models import Model\n",
        "from tensorflow.keras.layers import Input, Embedding, Flatten, Dense, Concatenate\n",
        "\n",
        "# Assuming max IDs for embeddings\n",
        "num_users=full_data_pd['user_id'].max() + 1\n",
        "num_movies=full_data_pd['movie_id'].max() + 1\n",
        "genre_dim=len(full_data_pd['genre_features'][0])\n",
        "\n",
        "# Inputs\n",
        "user_input=Input(shape=(1,), name='user_input')\n",
        "movie_input=Input(shape=(1,), name='movie_input')\n",
        "genre_input=Input(shape=(genre_dim,), name='genre_input')\n",
        "\n",
        "# Embeddings\n",
        "user_embedding=Embedding(num_users, 8, input_length=1)(user_input)\n",
        "movie_embedding=Embedding(num_movies, 8, input_length=1)(movie_input)\n",
        "\n",
        "# Flatten the embeddings\n",
        "user_vec=Flatten()(user_embedding)\n",
        "movie_vec=Flatten()(movie_embedding)\n",
        "\n",
        "# Concatenate features\n",
        "concat=Concatenate()([user_vec, movie_vec, genre_input])\n",
        "\n",
        "# Fully connected layers\n",
        "fc1=Dense(128, activation='relu')(concat)\n",
        "output=Dense(1, activation='linear')(fc1)\n",
        "\n",
        "# Compile and train the model\n",
        "model=Model(inputs=[user_input, movie_input, genre_input], outputs=output)\n",
        "model.compile(optimizer='adam', loss='mean_squared_error')\n",
        "\n",
        "# Prepare data for training\n",
        "train_features={\n",
        "    'user_input': full_data_pd['user_id'],\n",
        "    'movie_input': full_data_pd['movie_id'],\n",
        "    'genre_input': np.stack(full_data_pd['genre_features'].values)\n",
        "}\n",
        "\n",
        "# Train the model\n",
        "model.fit(train_features, full_data_pd['rating'], epochs=5, batch_size=32, validation_split=0.1)\n"
      ]
    },
    {
      "cell_type": "code",
      "execution_count": null,
      "metadata": {
        "colab": {
          "base_uri": "https://localhost:8080/"
        },
        "id": "sHdZXitEU7mu",
        "outputId": "f5f901d7-ebad-4cdb-f179-22b0927f96f4"
      },
      "outputs": [
        {
          "name": "stdout",
          "output_type": "stream",
          "text": [
            "3125/3125 [==============================] - 8s 3ms/step - loss: 0.8059\n"
          ]
        },
        {
          "data": {
            "text/plain": [
              "0.8059421181678772"
            ]
          },
          "execution_count": 45,
          "metadata": {},
          "output_type": "execute_result"
        }
      ],
      "source": [
        "# Evaluate the model on a test set\n",
        "model.evaluate(train_features, full_data_pd['rating'])\n"
      ]
    },
    {
      "cell_type": "code",
      "execution_count": null,
      "metadata": {
        "colab": {
          "base_uri": "https://localhost:8080/"
        },
        "id": "3AXeUxzoVTGj",
        "outputId": "8bbcadc3-bcfc-43c5-e8b9-40603b7c4e79"
      },
      "outputs": [
        {
          "name": "stdout",
          "output_type": "stream",
          "text": [
            "Collecting scikit-surprise\n",
            "  Downloading scikit-surprise-1.1.3.tar.gz (771 kB)\n",
            "\u001b[2K     \u001b[90m━━━━━━━━━━━━━━━━━━━━━━━━━━━━━━━━━━━━━━━━\u001b[0m \u001b[32m772.0/772.0 kB\u001b[0m \u001b[31m6.2 MB/s\u001b[0m eta \u001b[36m0:00:00\u001b[0m\n",
            "\u001b[?25h  Preparing metadata (setup.py) ... \u001b[?25l\u001b[?25hdone\n",
            "Requirement already satisfied: joblib>=1.0.0 in /usr/local/lib/python3.10/dist-packages (from scikit-surprise) (1.4.0)\n",
            "Requirement already satisfied: numpy>=1.17.3 in /usr/local/lib/python3.10/dist-packages (from scikit-surprise) (1.25.2)\n",
            "Requirement already satisfied: scipy>=1.3.2 in /usr/local/lib/python3.10/dist-packages (from scikit-surprise) (1.11.4)\n",
            "Building wheels for collected packages: scikit-surprise\n",
            "  Building wheel for scikit-surprise (setup.py) ... \u001b[?25l\u001b[?25hdone\n",
            "  Created wheel for scikit-surprise: filename=scikit_surprise-1.1.3-cp310-cp310-linux_x86_64.whl size=3162998 sha256=7be1952eadbe0c99c6fee19b946aee257b7c8fca06d2e6064f2189e144a9e06c\n",
            "  Stored in directory: /root/.cache/pip/wheels/a5/ca/a8/4e28def53797fdc4363ca4af740db15a9c2f1595ebc51fb445\n",
            "Successfully built scikit-surprise\n",
            "Installing collected packages: scikit-surprise\n",
            "Successfully installed scikit-surprise-1.1.3\n"
          ]
        }
      ],
      "source": [
        "!pip install scikit-surprise\n"
      ]
    },
    {
      "cell_type": "code",
      "execution_count": null,
      "metadata": {
        "colab": {
          "base_uri": "https://localhost:8080/"
        },
        "id": "AtzhVpSiVxjA",
        "outputId": "1d1cc549-ac50-40f1-ba51-1060ecc57bf6"
      },
      "outputs": [
        {
          "name": "stdout",
          "output_type": "stream",
          "text": [
            "Processing epoch 0\n",
            "Processing epoch 1\n",
            "Processing epoch 2\n",
            "Processing epoch 3\n",
            "Processing epoch 4\n",
            "Processing epoch 5\n",
            "Processing epoch 6\n",
            "Processing epoch 7\n",
            "Processing epoch 8\n",
            "Processing epoch 9\n",
            "Processing epoch 10\n",
            "Processing epoch 11\n",
            "Processing epoch 12\n",
            "Processing epoch 13\n",
            "Processing epoch 14\n",
            "Processing epoch 15\n",
            "Processing epoch 16\n",
            "Processing epoch 17\n",
            "Processing epoch 18\n",
            "Processing epoch 19\n",
            "RMSE: 0.9385\n",
            "Processing epoch 0\n",
            "Processing epoch 1\n",
            "Processing epoch 2\n",
            "Processing epoch 3\n",
            "Processing epoch 4\n",
            "Processing epoch 5\n",
            "Processing epoch 6\n",
            "Processing epoch 7\n",
            "Processing epoch 8\n",
            "Processing epoch 9\n",
            "Processing epoch 10\n",
            "Processing epoch 11\n",
            "Processing epoch 12\n",
            "Processing epoch 13\n",
            "Processing epoch 14\n",
            "Processing epoch 15\n",
            "Processing epoch 16\n",
            "Processing epoch 17\n",
            "Processing epoch 18\n",
            "Processing epoch 19\n",
            "Processing epoch 0\n",
            "Processing epoch 1\n",
            "Processing epoch 2\n",
            "Processing epoch 3\n",
            "Processing epoch 4\n",
            "Processing epoch 5\n",
            "Processing epoch 6\n",
            "Processing epoch 7\n",
            "Processing epoch 8\n",
            "Processing epoch 9\n",
            "Processing epoch 10\n",
            "Processing epoch 11\n",
            "Processing epoch 12\n",
            "Processing epoch 13\n",
            "Processing epoch 14\n",
            "Processing epoch 15\n",
            "Processing epoch 16\n",
            "Processing epoch 17\n",
            "Processing epoch 18\n",
            "Processing epoch 19\n",
            "Processing epoch 0\n",
            "Processing epoch 1\n",
            "Processing epoch 2\n",
            "Processing epoch 3\n",
            "Processing epoch 4\n",
            "Processing epoch 5\n",
            "Processing epoch 6\n",
            "Processing epoch 7\n",
            "Processing epoch 8\n",
            "Processing epoch 9\n",
            "Processing epoch 10\n",
            "Processing epoch 11\n",
            "Processing epoch 12\n",
            "Processing epoch 13\n",
            "Processing epoch 14\n",
            "Processing epoch 15\n",
            "Processing epoch 16\n",
            "Processing epoch 17\n",
            "Processing epoch 18\n",
            "Processing epoch 19\n",
            "Evaluating RMSE, MAE of algorithm SVD on 3 split(s).\n",
            "\n",
            "                  Fold 1  Fold 2  Fold 3  Mean    Std     \n",
            "RMSE (testset)    0.9429  0.9473  0.9441  0.9447  0.0018  \n",
            "MAE (testset)     0.7463  0.7458  0.7445  0.7455  0.0007  \n",
            "Fit time          3.34    2.64    2.57    2.85    0.35    \n",
            "Test time         0.48    0.53    0.27    0.42    0.11    \n",
            "0.9447477937386206\n",
            "0.7455096480268014\n"
          ]
        }
      ],
      "source": [
        "from surprise import SVD, Dataset, Reader\n",
        "from surprise.model_selection import cross_validate, train_test_split\n",
        "from surprise.accuracy import rmse, mae\n",
        "\n",
        "# Loading the data into Surprise's format\n",
        "reader=Reader(rating_scale=(1, 5))  # Adjust rating_scale if your dataset differs\n",
        "data=Dataset.load_from_df(full_data_pd[['user_id', 'movie_id', 'rating']], reader)\n",
        "\n",
        "# Split the data into train and test sets for evaluation\n",
        "trainset, testset=train_test_split(data, test_size=0.25)\n",
        "\n",
        "# Defining the SVD algorithm\n",
        "svd_model=SVD(n_factors=100, n_epochs=20, biased=True, lr_all=0.005, reg_all=0.02, verbose=True)\n",
        "\n",
        "# Training the SVD model\n",
        "svd_model.fit(trainset)\n",
        "\n",
        "# Predictions on the test set\n",
        "predictions=svd_model.test(testset)\n",
        "\n",
        "# Compute RMSE (Root Mean Squared Error)\n",
        "accuracy_rmse=rmse(predictions)\n",
        "\n",
        "# Optionally, you can use cross-validation to evaluate the model further\n",
        "results=cross_validate(svd_model, data, measures=['RMSE', 'MAE'], cv=3, verbose=True)\n",
        "print(results['test_rmse'].mean())\n",
        "print(results['test_mae'].mean())\n"
      ]
    },
    {
      "cell_type": "code",
      "execution_count": null,
      "metadata": {
        "colab": {
          "base_uri": "https://localhost:8080/"
        },
        "id": "UWdL-xJ4WuvB",
        "outputId": "c1ed2556-9d15-46f3-abf7-a1da1c963792"
      },
      "outputs": [
        {
          "name": "stdout",
          "output_type": "stream",
          "text": [
            "Best RMSE score attained: 0.9288940172065311\n",
            "{'n_epochs': 20, 'lr_all': 0.01, 'reg_all': 0.1}\n"
          ]
        }
      ],
      "source": [
        "# Tuning hyperparameters to improve accuracy\n",
        "from surprise.model_selection import GridSearchCV\n",
        "\n",
        "# Define a range of hyperparameters for SVD\n",
        "param_grid={\n",
        "    'n_epochs': [5, 10, 20],  # Number of iteration of the SGD procedure\n",
        "    'lr_all': [0.002, 0.005, 0.01],  # Learning rate\n",
        "    'reg_all': [0.02, 0.1, 0.2]  # Regularization term\n",
        "}\n",
        "\n",
        "# Setup GridSearchCV\n",
        "gs=GridSearchCV(SVD, param_grid, measures=['rmse', 'mae'], cv=3)\n",
        "\n",
        "# Fit GridSearchCV to the data\n",
        "gs.fit(data)\n",
        "\n",
        "# Best RMSE score\n",
        "print(f\"Best RMSE score attained: {gs.best_score['rmse']}\")\n",
        "\n",
        "# Combination of parameters that gave the best RMSE score\n",
        "print(gs.best_params['rmse'])\n"
      ]
    },
    {
      "cell_type": "code",
      "execution_count": null,
      "metadata": {
        "colab": {
          "base_uri": "https://localhost:8080/"
        },
        "id": "E9QhA9wLXHxE",
        "outputId": "cf5bdc06-8dff-47b3-fb51-583e168d6a22"
      },
      "outputs": [
        {
          "name": "stdout",
          "output_type": "stream",
          "text": [
            "RMSE: 0.9217\n",
            "Optimized RMSE: 0.9216700782723707\n"
          ]
        }
      ],
      "source": [
        "# Retrain the model with the best parameters\n",
        "optimized_svd=SVD(n_epochs=gs.best_params['rmse']['n_epochs'], lr_all=gs.best_params['rmse']['lr_all'], reg_all=gs.best_params['rmse']['reg_all'])\n",
        "optimized_svd.fit(trainset)\n",
        "\n",
        "# Predict and evaluate with the optimized model\n",
        "optimized_predictions=optimized_svd.test(testset)\n",
        "optimized_rmse=rmse(optimized_predictions)\n",
        "print(f\"Optimized RMSE: {optimized_rmse}\")\n"
      ]
    },
    {
      "cell_type": "code",
      "execution_count": null,
      "metadata": {
        "id": "H_1c_-FcXw46"
      },
      "outputs": [],
      "source": [
        "# Assuming the number of predictions from the SVD model is known\n",
        "num_predictions=len(svd_predictions)  # This matches the number of your deep learning predictions\n",
        "\n",
        "# Create dummy predictions for the deep learning model for demonstration\n",
        "np.random.seed(42)  # For reproducibility\n",
        "dl_predictions=np.random.rand(num_predictions) * 5  # Assuming ratings scale from 0 to 5\n"
      ]
    },
    {
      "cell_type": "code",
      "execution_count": null,
      "metadata": {
        "colab": {
          "base_uri": "https://localhost:8080/"
        },
        "id": "QybpCYZOYCOX",
        "outputId": "77566291-417f-40b0-ed4c-74c7c512c07d"
      },
      "outputs": [
        {
          "name": "stdout",
          "output_type": "stream",
          "text": [
            "Final Ensemble RMSE: 1.3191743781957832\n"
          ]
        }
      ],
      "source": [
        "# Compute the simple average ensemble predictions\n",
        "final_predictions=0.5 * svd_predictions + 0.5 * dl_predictions\n",
        "\n",
        "# Compute final RMSE for the ensemble\n",
        "from sklearn.metrics import mean_squared_error\n",
        "final_rmse=mean_squared_error(actual_ratings, final_predictions, squared=False)\n",
        "print(f\"Final Ensemble RMSE: {final_rmse}\")\n"
      ]
    },
    {
      "cell_type": "code",
      "execution_count": null,
      "metadata": {
        "colab": {
          "base_uri": "https://localhost:8080/"
        },
        "id": "GgYa5bbMYavV",
        "outputId": "2016ab0e-6a3a-428b-e779-52ba65eaa267"
      },
      "outputs": [
        {
          "name": "stdout",
          "output_type": "stream",
          "text": [
            "Stacked Ensemble RMSE: 0.9195079721038895\n"
          ]
        }
      ],
      "source": [
        "from sklearn.linear_model import LinearRegression\n",
        "\n",
        "# Prepare data for stacking\n",
        "stacking_features=np.column_stack((svd_predictions, dl_predictions))\n",
        "\n",
        "# Train a meta-model\n",
        "meta_model=LinearRegression()\n",
        "meta_model.fit(stacking_features, actual_ratings)\n",
        "\n",
        "# Make final predictions using the meta-model\n",
        "final_stacked_predictions=meta_model.predict(stacking_features)\n",
        "\n",
        "# Evaluate the stacked model\n",
        "stacked_rmse=mean_squared_error(actual_ratings, final_stacked_predictions, squared=False)\n",
        "print(f\"Stacked Ensemble RMSE: {stacked_rmse}\")\n"
      ]
    },
    {
      "cell_type": "code",
      "execution_count": null,
      "metadata": {
        "id": "6qTuge7gYcrV"
      },
      "outputs": [],
      "source": [
        "import pandas as pd\n",
        "\n",
        "# Example DataFrame to hold feedback\n",
        "feedback_data=pd.DataFrame({\n",
        "    'user_id': [],\n",
        "    'movie_id': [],\n",
        "    'rating': [],  # Explicit feedback\n",
        "    'clicks': [],  # Implicit feedback: number of times clicked/viewed\n",
        "    'view_time': []  # Implicit feedback: total viewing time in seconds\n",
        "})\n"
      ]
    },
    {
      "cell_type": "code",
      "execution_count": null,
      "metadata": {
        "id": "iwTN0ssoY_I4"
      },
      "outputs": [],
      "source": [
        "import pandas as pd\n",
        "\n",
        "def update_feedback(user_id, movie_id, rating=None, clicks=1, view_time=0):\n",
        "    global feedback_data\n",
        "    # Checking if the entry already exists\n",
        "    mask=(feedback_data['user_id'] == user_id) & (feedback_data['movie_id'] == movie_id)\n",
        "    if mask.any():\n",
        "        # Increment clicks and view_time, update rating if provided\n",
        "        feedback_data.loc[mask, 'clicks'] += clicks\n",
        "        feedback_data.loc[mask, 'view_time'] += view_time\n",
        "        if rating is not None:\n",
        "            feedback_data.loc[mask, 'rating']=rating  # Update rating if provided\n",
        "    else:\n",
        "        # Create new entry and add to DataFrame\n",
        "        new_feedback=pd.DataFrame({\n",
        "            'user_id': [user_id],\n",
        "            'movie_id': [movie_id],\n",
        "            'rating': [rating],\n",
        "            'clicks': [clicks],\n",
        "            'view_time': [view_time]\n",
        "        })\n",
        "        feedback_data=pd.concat([feedback_data, new_feedback], ignore_index=True)\n",
        "\n",
        "# Example of updating feedback\n",
        "update_feedback(user_id=1, movie_id=101, rating=5, view_time=300)\n"
      ]
    },
    {
      "cell_type": "code",
      "execution_count": null,
      "metadata": {
        "colab": {
          "base_uri": "https://localhost:8080/"
        },
        "id": "MomtuQzRZBSq",
        "outputId": "a44cfdc7-0511-4ba5-ff56-49f33694b21c"
      },
      "outputs": [
        {
          "name": "stdout",
          "output_type": "stream",
          "text": [
            "   user_id  movie_id  rating  clicks  view_time\n",
            "0      1.0     101.0     5.0     1.0      300.0\n"
          ]
        }
      ],
      "source": [
        "print(feedback_data)\n"
      ]
    },
    {
      "cell_type": "code",
      "execution_count": null,
      "metadata": {
        "id": "dtBCWwxdZN1z"
      },
      "outputs": [],
      "source": []
    }
  ],
  "metadata": {
    "colab": {
      "provenance": []
    },
    "kernelspec": {
      "display_name": "Python 3",
      "name": "python3"
    },
    "language_info": {
      "name": "python"
    }
  },
  "nbformat": 4,
  "nbformat_minor": 0
}
